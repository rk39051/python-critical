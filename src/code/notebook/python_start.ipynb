{
  "cells": [
    {
      "cell_type": "markdown",
      "metadata": {
        "id": "view-in-github",
        "colab_type": "text"
      },
      "source": [
        "<a href=\"https://colab.research.google.com/github/rk39051/python-critical/blob/main/src/code/notebook/python_start.ipynb\" target=\"_parent\"><img src=\"https://colab.research.google.com/assets/colab-badge.svg\" alt=\"Open In Colab\"/></a>"
      ]
    },
    {
      "cell_type": "code",
      "execution_count": null,
      "metadata": {
        "id": "-JagUMV88_sx"
      },
      "outputs": [],
      "source": [
        "python_link = \"https://github.com/python-engineer/python-engineer-notebooks/tree/master/advanced-python\""
      ]
    },
    {
      "cell_type": "code",
      "source": [
        "print(\"x\")"
      ],
      "metadata": {
        "id": "QoHIUBl9pXWw",
        "outputId": "0ee56c47-7234-41ee-b3c9-f5dd12676cbe",
        "colab": {
          "base_uri": "https://localhost:8080/"
        }
      },
      "execution_count": 1,
      "outputs": [
        {
          "output_type": "stream",
          "name": "stdout",
          "text": [
            "x\n"
          ]
        }
      ]
    },
    {
      "cell_type": "code",
      "execution_count": null,
      "metadata": {
        "colab": {
          "base_uri": "https://localhost:8080/"
        },
        "id": "lJr_LDOslJ0Q",
        "outputId": "0564b1e2-fbba-4e3c-ef05-054f09cea46d"
      },
      "outputs": [
        {
          "name": "stdout",
          "output_type": "stream",
          "text": [
            "(6+4j)\n",
            "type of (6+4j) <class 'complex'>\n",
            "string value asdfgh;lkjgc\n",
            "var[:] - asdfgh;lkjgc\n",
            "var[1:5] - sdfg\n",
            "print(var*2) - asdfgh;lkjgcasdfgh;lkjgc\n",
            "var[::-1] (:: -> step index)- cgjkl;hgfdsa\n",
            "reversed(var) cgjkl;hgfdsa\n",
            "var = var + 'asdd'->cgjkl;hgfdsaasdd\n",
            "padded string 0000cgjkl;hgfdsaasdd\n"
          ]
        }
      ],
      "source": [
        "\"\"\"\n",
        "Python data type\n",
        "1. Numeric Type\n",
        "    a. Integer\n",
        "    b. Float\n",
        "    c. complex number\n",
        "2. Sequence Type\n",
        "    a. List (mutable, ordered)\n",
        "    b. String (Imutable, ordered)\n",
        "    c. Tuple (Imutable, ordered)\n",
        "3. Set (mutable, unordered)\n",
        "4. Dictonary (ordered from python 3.7 , mutable)\n",
        "\"\"\"\n",
        "\n",
        "#complex numbers - Numeric type\n",
        "var = 1+2j + 5+2j\n",
        "print(var)\n",
        "print(f\"type of {var} {type(var)}\")\n",
        "\n",
        "\n",
        "\n",
        "#string - Sequence type\n",
        "var = \"asdfgh;lkjgc\"\n",
        "print(f\"string value {var}\")\n",
        "print(f\"var[:] - {var[:]}\")\n",
        "print(f\"var[1:5] - {var[1:5]}\")\n",
        "print(f\"print(var*2) - {var*2}\")\n",
        "print(f\"var[::-1] (:: -> step index)- {var[::-1]}\")\n",
        "\n",
        "#reverse a string\n",
        "var = \"\".join(reversed(var))\n",
        "print(f\"reversed(var) {var}\")\n",
        "\n",
        "#concat two string\n",
        "var = var + \"asdd\"\n",
        "print(f\"var = var + 'asdd'->{var}\")\n",
        "\n",
        "#padding with string\n",
        "print(f\"padded string {var.zfill(0)}\")"
      ]
    },
    {
      "cell_type": "code",
      "execution_count": null,
      "metadata": {
        "colab": {
          "base_uri": "https://localhost:8080/"
        },
        "id": "jku4mNkQ-uKn",
        "outputId": "774ae4cd-9c56-4bd1-9a63-330c53347a39"
      },
      "outputs": [
        {
          "name": "stdout",
          "output_type": "stream",
          "text": [
            "361\n",
            "4671\n"
          ]
        }
      ],
      "source": [
        "#numeric\n",
        "#octal number\n",
        "octal = 0o551\n",
        "print(int(octal))\n",
        "\n",
        "#hexadecimal number\n",
        "hexa = 0x123f\n",
        "print(int(hexa))"
      ]
    },
    {
      "cell_type": "code",
      "execution_count": null,
      "metadata": {
        "colab": {
          "base_uri": "https://localhost:8080/"
        },
        "id": "MRLBnJL-nQdG",
        "outputId": "e9aa399c-82a7-41ca-9e0b-c73130f31940"
      },
      "outputs": [
        {
          "name": "stdout",
          "output_type": "stream",
          "text": [
            "lst [1, 2, 3, 4, 5]\n",
            "lst.append(100) [1, 2, 3, 4, 5, 100]\n",
            "lst.pop(0) [2, 3, 4, 5, 100]\n",
            "lst.remove(100) [2, 3, 4, 5]\n",
            "lst[:] -> [2, 3, 4, 5]\n",
            "lst[1:5] -> [3, 4, 5]\n",
            "print(lst*2) -> [2, 3, 4, 5, 2, 3, 4, 5]\n",
            "lst[::-1] (:: -> step index)-> [5, 4, 3, 2]\n",
            "[2, 3, 4, 5] + [1, 6, 3, 3, 7] = [2, 3, 4, 5, 1, 6, 3, 3, 7]\n",
            "lst2 -> [1, 6, 3, 3, 7]\n",
            "lst2.reverse() modifies original list -> [7, 3, 3, 6, 1]\n",
            "x = sorted(lst2) ->[1, 3, 3, 6, 7]\n",
            "lst2.sort() modifies original list [1, 3, 3, 6, 7]\n",
            "lst2.count(3) ->2\n",
            "x = reversed(lst2) -> [7, 6, 3, 3, 1]\n",
            "lst2.insert(1,120394) -> [1, 120394, 3, 3, 6, 7]\n",
            "deep copy x = lst2 x.append(100000)-> [1, 120394, 3, 3, 6, 7, 100000]\n",
            "shallow copy lst2.copy() -> [1, 120394, 3, 3, 6, 7, 100000]\n",
            "lst2.clear() []\n",
            "lst2.extend(lst) [2, 3, 4, 5]\n"
          ]
        }
      ],
      "source": [
        "#List -> Sequence type , ordered, mutable\n",
        "lst = [1,2,3,4,5]\n",
        "\n",
        "print(f'lst {lst}')\n",
        "lst.append(100)\n",
        "print(f\"lst.append(100) {lst}\")\n",
        "\n",
        "lst.pop(0)\n",
        "print(f\"lst.pop(0) {lst}\")\n",
        "\n",
        "lst.remove(100)\n",
        "print(f\"lst.remove(100) {lst}\")\n",
        "\n",
        "\n",
        "#list operation\n",
        "print(f\"lst[:] -> {lst[:]}\")\n",
        "print(f\"lst[1:5] -> {lst[1:4]}\")\n",
        "print(f\"print(lst*2) -> {lst*2}\")\n",
        "print(f\"lst[::-1] (:: -> step index)-> {lst[::-1]}\")\n",
        "\n",
        "lst2 = [1,6,3,3,7]\n",
        "\n",
        "#add two list\n",
        "print(f\"{lst} + {lst2} = {lst+lst2}\")\n",
        "\n",
        "print(f\"lst2 -> {lst2}\")\n",
        "\n",
        "#reverse method modifies original list\n",
        "lst2.reverse()\n",
        "print(f\"lst2.reverse() modifies original list -> {lst2}\")\n",
        "\n",
        "#sorted method returns new sorted list\n",
        "x = sorted(lst2)\n",
        "print(f\"x = sorted(lst2) ->{x}\")\n",
        "\n",
        "#sort list modifies original list\n",
        "lst2.sort()\n",
        "print(f\"lst2.sort() modifies original list {lst2}\")\n",
        "\n",
        "#count occurance of an element inside list\n",
        "print(f\"lst2.count(3) ->{lst2.count(3)}\")\n",
        "\n",
        "\n",
        "#reversed method returns new reversed list\n",
        "x = list(reversed(lst2))\n",
        "print(f\"x = reversed(lst2) -> {x}\")\n",
        "\n",
        "\n",
        "#list insert\n",
        "lst2.insert(1,120394)\n",
        "print(f\"lst2.insert(1,120394) -> {lst2}\")\n",
        "\n",
        "#deep copy useful in nested list or classes\n",
        "import copy\n",
        "x = copy.deepcopy(lst2)\n",
        "x.append(100000)\n",
        "print(f\"\"\"deep copy x = lst2 x.append(100000)-> {lst2}\"\"\")\n",
        "\n",
        "#shallow copy useful in copying 1st level\n",
        "x = lst2.copy()\n",
        "print(off\"shallow copy lst2.copy() -> {x}\")\n",
        "\n",
        "#clear the list modifies original list\n",
        "lst2.clear()\n",
        "print(f\"lst2.clear() {lst2}\")\n",
        "\n",
        "#extend method same as adding two list\n",
        "lst2.extend(lst)\n",
        "print(f\"lst2.extend(lst) {lst2}\")"
      ]
    },
    {
      "cell_type": "code",
      "execution_count": null,
      "metadata": {
        "colab": {
          "base_uri": "https://localhost:8080/"
        },
        "id": "CdUGH-M5zQIL",
        "outputId": "094ca67c-19e4-4648-b89c-ebde0bbe3589"
      },
      "outputs": [
        {
          "name": "stdout",
          "output_type": "stream",
          "text": [
            "right padding to jdnviron - jdnviron000000000000\n",
            "left padding to jdnviron - 000000000000jdnviron\n"
          ]
        }
      ],
      "source": [
        "# string padding test\n",
        "\n",
        "s = \"jdnviron\"\n",
        "\n",
        "# string right padding\n",
        "print(f\"right padding to {s} - {s.ljust(20,'0')}\")\n",
        "\n",
        "# string left padding\n",
        "print(f\"left padding to {s} - {s.rjust(20,'0')}\")\n"
      ]
    },
    {
      "cell_type": "code",
      "execution_count": null,
      "metadata": {
        "colab": {
          "base_uri": "https://localhost:8080/"
        },
        "id": "SWLO1NU0rLc7",
        "outputId": "6adc847f-2b28-4dc5-f2e9-2b0f94600adb"
      },
      "outputs": [
        {
          "name": "stdout",
          "output_type": "stream",
          "text": [
            "dict->{'x': 1, 'y': 2, 'z': 100}\n",
            "type(keys) -> <class 'dict_keys'>\n",
            "type(values) -> <class 'dict_values'>\n",
            "max_val -> 100\n",
            "lst_val.index(max_val) -> 2\n",
            "x 1\n",
            "y 2\n",
            "z 100\n",
            "x 1\n",
            "y 2\n",
            "z 100\n",
            "{'x': 1, 'y': 2, 'z': 100, 's': 234}\n",
            "dict3 -> {'x': 1, 'y': 2, 'z': 100, 's': 234}\n"
          ]
        }
      ],
      "source": [
        "#dictonary - orderd (python 3.7), mutable, can not have duplicate key\n",
        "dict = {\"x\":1,\"y\":2,\"z\":100}\n",
        "print(f\"dict->{dict}\")\n",
        "\n",
        "#access dict keys\n",
        "keys = dict.keys()\n",
        "print(f\"type(keys) -> {type(keys)}\")\n",
        "\n",
        "#access dict values\n",
        "values = dict.values()\n",
        "print(f\"type(values) -> {type(values)}\")\n",
        "\n",
        "#convert dict key to list\n",
        "lst_val = list(values)\n",
        "lst_key = list(keys)\n",
        "\n",
        "max_val = max(lst_val)\n",
        "print(f\"max_val -> {max_val}\")\n",
        "\n",
        "\n",
        "print(f\"lst_val.index(max_val) -> {lst_val.index(max_val)}\")\n",
        "\n",
        "#iterate over dict\n",
        "for key in dict:\n",
        "    print(key,dict.get(key))\n",
        "\n",
        "for key,val in dict.items():\n",
        "    print(key,val)\n",
        "\n",
        "#dict update\n",
        "dict2 = {\"s\":234}\n",
        "dict.update(dict2)\n",
        "print(dict)\n",
        "\n",
        "#merge two dict\n",
        "dict3 = {**dict,**dict2}\n",
        "print(f\"dict3 -> {dict3}\")\n"
      ]
    },
    {
      "cell_type": "code",
      "execution_count": null,
      "metadata": {
        "colab": {
          "base_uri": "https://localhost:8080/"
        },
        "id": "qBkk2phlxjSA",
        "outputId": "390bc6f2-1ab6-4513-9fb3-5fcdf22fa0cc"
      },
      "outputs": [
        {
          "name": "stdout",
          "output_type": "stream",
          "text": [
            "{'x': 10, 'y': 30, 'z': 40}\n",
            "d1 {'x': 10, 'y': 20}\n",
            "{'x': 10, 'y': 30, 'z': 40}\n"
          ]
        }
      ],
      "source": [
        "# python dictmerge test\n",
        "d1 = {'x':10,'y':20}\n",
        "d2 = {'y':30, 'z':40}\n",
        "\n",
        "print({**d1,**d2})\n",
        "\n",
        "print(f\"d1 {d1}\")\n",
        "\n",
        "d1.update(d2)\n",
        "print(d1)"
      ]
    },
    {
      "cell_type": "code",
      "execution_count": null,
      "metadata": {
        "colab": {
          "base_uri": "https://localhost:8080/"
        },
        "id": "3b8egIYou1h0",
        "outputId": "6698d252-6e34-4f80-cdfe-fe7497ea13fa"
      },
      "outputs": [
        {
          "name": "stdout",
          "output_type": "stream",
          "text": [
            "s1-> {1, 2, 3, 4, 5, 6}\n",
            "s2-> {1, 2, 3, 4, 5, 6, 7, 8, 9, 10}\n",
            "s1.union(s2) {1, 2, 3, 4, 5, 6, 7, 8, 9, 10}\n",
            "s1.intersection(s2) {1, 2, 3, 4, 5, 6}\n",
            "{7, 8, 9, 10}\n",
            "{1, 2, 3, 4, 5, 6}\n",
            "sub to s2-s1 - {8, 9, 10, 7}\n"
          ]
        }
      ],
      "source": [
        "#set - can not have duplicate value, unordered\n",
        "s1 = {1,2,3,4,5,6,6}\n",
        "s2 = {1,2,3,4,5,6,7,8,9,10}\n",
        "\n",
        "print(f\"s1-> {s1}\")\n",
        "print(f\"s2-> {s2}\")\n",
        "\n",
        "#union of s1 and s2\n",
        "print(f\"s1.union(s2) {s1.union(s2)}\")\n",
        "\n",
        "#intersection of s1 and s2\n",
        "print(f\"s1.intersection(s2) {s1.intersection(s2)}\")\n",
        "\n",
        "print(s1.symmetric_difference(s2))\n",
        "print(s1)\n",
        "print(f\"sub to s2-s1 - {s2-s1}\")\n",
        "\n"
      ]
    },
    {
      "cell_type": "code",
      "execution_count": null,
      "metadata": {
        "colab": {
          "base_uri": "https://localhost:8080/"
        },
        "id": "zcVH577D6Cgy",
        "outputId": "4bd3f773-af8d-4ea8-ba72-a90a359b3237"
      },
      "outputs": [
        {
          "name": "stdout",
          "output_type": "stream",
          "text": [
            "(1, 2, 3)\n"
          ]
        }
      ],
      "source": [
        "# tuple - ordered, immutable , can have duplicate value\n",
        "t = (1,2,3)\n",
        "print(t)"
      ]
    },
    {
      "cell_type": "code",
      "execution_count": null,
      "metadata": {
        "colab": {
          "base_uri": "https://localhost:8080/"
        },
        "id": "FpvICYu82wXK",
        "outputId": "84af0bd6-6839-40e6-87d7-fce30089cc49"
      },
      "outputs": [
        {
          "name": "stdout",
          "output_type": "stream",
          "text": [
            "10\n",
            "11\n",
            "12\n",
            "13\n",
            "14\n",
            "16\n",
            "17\n",
            "18\n",
            "19\n",
            "20\n"
          ]
        }
      ],
      "source": [
        "#continue statement\n",
        "\n",
        "# looping from 10 to 20\n",
        "for iterator in range(10, 21):\n",
        "\n",
        "    # If iterator is equals to 15, loop will continue to the next iteration\n",
        "    if iterator == 15:\n",
        "        continue\n",
        "    # otherwise printing the value of iterator\n",
        "    print( iterator )"
      ]
    },
    {
      "cell_type": "code",
      "execution_count": null,
      "metadata": {
        "colab": {
          "base_uri": "https://localhost:8080/"
        },
        "id": "vnHf2vVGFW_G",
        "outputId": "46ed9738-d382-4796-be91-ca0e15b01b02"
      },
      "outputs": [
        {
          "name": "stdout",
          "output_type": "stream",
          "text": [
            "{'present': True, 'x': 5}\n",
            "integer value of char 'a' -> 97\n",
            "round of 9.8443 -> 9.84\n",
            "{'x': 1, 'y': 2, 'z': 3}\n"
          ]
        }
      ],
      "source": [
        "\"\"\"\n",
        "Python locals() Function\n",
        "The python locals() method updates and returns the dictionary of the current local symbol table.\n",
        "\n",
        "A Symbol table is defined as a data structure which contains all the necessary information about the program. It includes variable names, methods, classes etc.\n",
        "\"\"\"\n",
        "def localsArePresent():\n",
        "    present = True\n",
        "    x = 5\n",
        "    return locals()\n",
        "\n",
        "print(localsArePresent())\n",
        "\n",
        "#get integer value of char value\n",
        "print(f\"integer value of char 'a' -> {ord('a')}\")\n",
        "\n",
        "#round function\n",
        "x = 9.8443\n",
        "print(f\"round of {x} -> {round(x,2)}\")\n",
        "\n",
        "#python zip\n",
        "#python zip will map two or more container elements present at same index\n",
        "\n",
        "lst1 = [\"x\",\"y\",\"z\"]\n",
        "lst2 = (1,2,3,4,5,6,7)\n",
        "\n",
        "print(dict(zip(lst1,lst2)))"
      ]
    },
    {
      "cell_type": "code",
      "execution_count": null,
      "metadata": {
        "colab": {
          "base_uri": "https://localhost:8080/"
        },
        "id": "JuCf_ENtHife",
        "outputId": "1a245916-ff36-42c6-e33f-03e35a8a1100"
      },
      "outputs": [
        {
          "name": "stdout",
          "output_type": "stream",
          "text": [
            "1 [2, 3]\n"
          ]
        }
      ],
      "source": [
        "#unpack tuple\n",
        "lst = (1,2,3)\n",
        "k,*c = lst\n",
        "print(k,c)"
      ]
    },
    {
      "cell_type": "code",
      "execution_count": null,
      "metadata": {
        "colab": {
          "base_uri": "https://localhost:8080/"
        },
        "id": "yCgZKOy4-rQu",
        "outputId": "55e0182b-caff-46f5-fe34-dcbe97e0f793"
      },
      "outputs": [
        {
          "data": {
            "text/plain": [
              "['__add__',\n",
              " '__class__',\n",
              " '__contains__',\n",
              " '__delattr__',\n",
              " '__dir__',\n",
              " '__doc__',\n",
              " '__eq__',\n",
              " '__format__',\n",
              " '__ge__',\n",
              " '__getattribute__',\n",
              " '__getitem__',\n",
              " '__getnewargs__',\n",
              " '__gt__',\n",
              " '__hash__',\n",
              " '__init__',\n",
              " '__init_subclass__',\n",
              " '__iter__',\n",
              " '__le__',\n",
              " '__len__',\n",
              " '__lt__',\n",
              " '__mod__',\n",
              " '__mul__',\n",
              " '__ne__',\n",
              " '__new__',\n",
              " '__reduce__',\n",
              " '__reduce_ex__',\n",
              " '__repr__',\n",
              " '__rmod__',\n",
              " '__rmul__',\n",
              " '__setattr__',\n",
              " '__sizeof__',\n",
              " '__str__',\n",
              " '__subclasshook__',\n",
              " 'capitalize',\n",
              " 'casefold',\n",
              " 'center',\n",
              " 'count',\n",
              " 'encode',\n",
              " 'endswith',\n",
              " 'expandtabs',\n",
              " 'find',\n",
              " 'format',\n",
              " 'format_map',\n",
              " 'index',\n",
              " 'isalnum',\n",
              " 'isalpha',\n",
              " 'isascii',\n",
              " 'isdecimal',\n",
              " 'isdigit',\n",
              " 'isidentifier',\n",
              " 'islower',\n",
              " 'isnumeric',\n",
              " 'isprintable',\n",
              " 'isspace',\n",
              " 'istitle',\n",
              " 'isupper',\n",
              " 'join',\n",
              " 'ljust',\n",
              " 'lower',\n",
              " 'lstrip',\n",
              " 'maketrans',\n",
              " 'partition',\n",
              " 'removeprefix',\n",
              " 'removesuffix',\n",
              " 'replace',\n",
              " 'rfind',\n",
              " 'rindex',\n",
              " 'rjust',\n",
              " 'rpartition',\n",
              " 'rsplit',\n",
              " 'rstrip',\n",
              " 'split',\n",
              " 'splitlines',\n",
              " 'startswith',\n",
              " 'strip',\n",
              " 'swapcase',\n",
              " 'title',\n",
              " 'translate',\n",
              " 'upper',\n",
              " 'zfill']"
            ]
          },
          "execution_count": 14,
          "metadata": {},
          "output_type": "execute_result"
        }
      ],
      "source": [
        "#get list of valid attribute\n",
        "dir(\"s\")"
      ]
    },
    {
      "cell_type": "code",
      "execution_count": null,
      "metadata": {
        "colab": {
          "base_uri": "https://localhost:8080/"
        },
        "id": "oyLNvbEPKnDx",
        "outputId": "6e6a878c-c4eb-48f7-857d-7a4f43dfbd34"
      },
      "outputs": [
        {
          "name": "stdout",
          "output_type": "stream",
          "text": [
            "lst1 - [(0, 1), (1, 2), (2, 3), (3, 4)]\n",
            "(0, 1, 2, 3) (1, 2, 3, 4)\n"
          ]
        }
      ],
      "source": [
        "#python enumurate\n",
        "lst = [1,2,3,4]\n",
        "lst1 = list(enumerate(lst))\n",
        "print(f\"lst1 - {lst1}\")\n",
        "l1,l2 = zip(*lst1)\n",
        "print(l1,l2)"
      ]
    },
    {
      "cell_type": "code",
      "execution_count": null,
      "metadata": {
        "colab": {
          "base_uri": "https://localhost:8080/"
        },
        "id": "Oe1MoozINNG-",
        "outputId": "4f8d86d2-4bbb-4fb3-8f24-e971fb57729c"
      },
      "outputs": [
        {
          "name": "stdout",
          "output_type": "stream",
          "text": [
            "1\n",
            "2\n",
            "3\n",
            "4\n",
            "5\n",
            "[1, 3, 5]\n"
          ]
        }
      ],
      "source": [
        "lst = [1,2,3,4,5]\n",
        "#iter method or __iter__() method used to get iterator from the list\n",
        "# itr = iter(lst)\n",
        "itr = lst.__iter__()\n",
        "print(next(itr))\n",
        "#loop through iterator object\n",
        "while True:\n",
        "    try:\n",
        "        print(itr.__next__())\n",
        "    except Exception:\n",
        "        break\n",
        "\n",
        "#fiter and lambda\n",
        "odd_num = list(filter(lambda x : x%2 ==1 ,lst))\n",
        "print(odd_num)"
      ]
    },
    {
      "cell_type": "code",
      "execution_count": null,
      "metadata": {
        "colab": {
          "base_uri": "https://localhost:8080/"
        },
        "id": "EZDhNLAlL71y",
        "outputId": "7e99dfca-6e7f-4345-a77f-d4ca77ba3e78"
      },
      "outputs": [
        {
          "name": "stdout",
          "output_type": "stream",
          "text": [
            "1\n",
            "2\n"
          ]
        }
      ],
      "source": [
        "#python create an iterator\n",
        "class MyRange:\n",
        "    def __init__(self,start,end):\n",
        "        self.value = start\n",
        "        self.end = end\n",
        "    def __iter__(self):\n",
        "        return self\n",
        "    def __next__(self):\n",
        "        if self.value >= self.end:\n",
        "            raise StopIteration\n",
        "        current = self.value\n",
        "        self.value += 1\n",
        "        return current\n",
        "\n",
        "\n",
        "nums = MyRange(1,3)\n",
        "print(next(nums))\n",
        "print(next(nums))\n",
        "# print(next(nums))\n"
      ]
    },
    {
      "cell_type": "code",
      "execution_count": null,
      "metadata": {
        "colab": {
          "base_uri": "https://localhost:8080/"
        },
        "id": "oZ0zzpg-SKmB",
        "outputId": "c150ffe6-af53-41f5-fcd2-d37fbec90687"
      },
      "outputs": [
        {
          "name": "stdout",
          "output_type": "stream",
          "text": [
            "14\n"
          ]
        }
      ],
      "source": [
        "fun = lambda x : x*2 if x>2 else x*5\n",
        "print(fun(7))"
      ]
    },
    {
      "cell_type": "code",
      "execution_count": null,
      "metadata": {
        "colab": {
          "base_uri": "https://localhost:8080/"
        },
        "id": "5f0q9H0CUhVG",
        "outputId": "30d935d5-fe63-4feb-d0c5-c2ecc60202f7"
      },
      "outputs": [
        {
          "name": "stdout",
          "output_type": "stream",
          "text": [
            "06/09/22\n"
          ]
        }
      ],
      "source": [
        "#python date time\n",
        "\n",
        "from datetime import datetime\n",
        "dat = datetime.now()\n",
        "print(dat.strftime(\"%d/%m/%y\"))"
      ]
    },
    {
      "cell_type": "code",
      "execution_count": null,
      "metadata": {
        "colab": {
          "base_uri": "https://localhost:8080/",
          "height": 289
        },
        "id": "n9lPYKHaarhV",
        "outputId": "7306be1e-1ac1-400f-aeee-6739a5bd3b23"
      },
      "outputs": [
        {
          "ename": "AssertionError",
          "evalue": "ignored",
          "output_type": "error",
          "traceback": [
            "\u001b[0;31m---------------------------------------------------------------------------\u001b[0m",
            "\u001b[0;31mAssertionError\u001b[0m                            Traceback (most recent call last)",
            "\u001b[0;32m<ipython-input-17-9bd3ab8ba512>\u001b[0m in \u001b[0;36m<cell line: 8>\u001b[0;34m()\u001b[0m\n\u001b[1;32m      6\u001b[0m  \"\"\"\n\u001b[1;32m      7\u001b[0m \u001b[0mx\u001b[0m \u001b[0;34m=\u001b[0m \u001b[0;36m0\u001b[0m\u001b[0;34m\u001b[0m\u001b[0;34m\u001b[0m\u001b[0m\n\u001b[0;32m----> 8\u001b[0;31m \u001b[0;32massert\u001b[0m \u001b[0mx\u001b[0m\u001b[0;34m!=\u001b[0m\u001b[0;36m0\u001b[0m\u001b[0;34m,\u001b[0m \u001b[0;34m\"x is zero\"\u001b[0m\u001b[0;34m\u001b[0m\u001b[0;34m\u001b[0m\u001b[0m\n\u001b[0m",
            "\u001b[0;31mAssertionError\u001b[0m: x is zero"
          ]
        }
      ],
      "source": [
        "#python assert\n",
        "\"\"\"\n",
        "It is merely a Boolean expression that has a condition or expression checks if the condition returns true or false.\n",
        "If it is true, the program does not do anything, and it moves to the next line of code.\n",
        " But if it is false, it raises an AssertionError exception with an optional error message.\n",
        " \"\"\"\n",
        "x = 0\n",
        "assert x!=0, \"x is zero\""
      ]
    },
    {
      "cell_type": "code",
      "execution_count": null,
      "metadata": {
        "colab": {
          "base_uri": "https://localhost:8080/"
        },
        "id": "PTgc15_9Br6O",
        "outputId": "925e5677-27f7-46b0-a99f-358603d476b7"
      },
      "outputs": [
        {
          "name": "stdout",
          "output_type": "stream",
          "text": [
            "type of counter <class 'collections.Counter'>\n",
            "Counter({7: 2, 2: 1, 3: 1, 5: 1, 6: 1})\n",
            "None\n",
            "counter.get(7) - 2\n"
          ]
        }
      ],
      "source": [
        "#python collection counter - used to count element present in list/tuple and returns dict of element and it's count\n",
        "from collections import  Counter\n",
        "lst = (2,3,5,6,7,7)\n",
        "counter = Counter(lst)\n",
        "print(f\"type of counter {type(counter)}\")\n",
        "print(counter)\n",
        "print(counter.get(1))\n",
        "\n",
        "print(f\"counter.get(7) - {counter.get(7)}\")\n",
        "\n"
      ]
    },
    {
      "cell_type": "code",
      "execution_count": null,
      "metadata": {
        "colab": {
          "base_uri": "https://localhost:8080/"
        },
        "id": "AGdKlEoHaMzU",
        "outputId": "f80a2702-c7a0-4e29-c5e8-32266efdd402"
      },
      "outputs": [
        {
          "name": "stdout",
          "output_type": "stream",
          "text": [
            "array('i', [1, 65, 6, 7455, 746, 74])\n",
            "arr[0] -> 1\n",
            "arr[0:3]-> array('i', [1, 65, 6])\n",
            "array('i', [1, 65, 6, 7455, 746, 74, 123, 423])\n",
            "matrix 1 -> [[1, 2, 3, 4, 5], [1, 2, 3, 4, 5], [1, 2, 3, 4, 5], [1, 2, 3, 4, 5], [1, 2, 3, 4, 5]]\n",
            "matrix 2-> [[1, 2, 3, 4, 5], [1, 2, 3, 4, 5], [1, 2, 3, 4, 5], [1, 2, 3, 4, 5], [1, 2, 3, 4, 5]]\n",
            "addition of matrices -> [[2, 4, 6, 8, 10], [2, 4, 6, 8, 10], [2, 4, 6, 8, 10], [2, 4, 6, 8, 10], [2, 4, 6, 8, 10]]\n",
            "multiplication of matrices -> [[5, 20, 45, 80, 125], [5, 20, 45, 80, 125], [5, 20, 45, 80, 125], [5, 20, 45, 80, 125], [5, 20, 45, 80, 125]]\n"
          ]
        }
      ],
      "source": [
        "#python array\n",
        "import array as arr\n",
        "arr1 = arr.array('i',[1,65,6,7455,746,74])\n",
        "print(arr1)\n",
        "print(f\"arr[0] -> {arr1[0]}\")\n",
        "print(f\"arr[0:3]-> {arr1[0:3]}\")\n",
        "\n",
        "arr2 = arr.array('i', [123,423])\n",
        "arr3 = arr1+arr2\n",
        "print(arr3)\n",
        "\n",
        "\n",
        "#multidimentional array\n",
        "mul_arr1 = [[1,2,3,4,5]]*5\n",
        "print(f\"matrix 1 -> {mul_arr1}\")\n",
        "mul_arr2 = [[1,2,3,4,5]]*5\n",
        "print(f\"matrix 2-> {mul_arr2}\")\n",
        "mul_arr3 = [[0]*5]*5\n",
        "\n",
        "#add two matrices\n",
        "for i in range(5):\n",
        "    for j in range(5):\n",
        "        mul_arr3[i][j] = mul_arr1[i][j]+mul_arr2[i][j]\n",
        "\n",
        "print(f\"addition of matrices -> {mul_arr3}\")\n",
        "\n",
        "#multiply two matrices\n",
        "mul_arr3 = [[0]*5]*5\n",
        "for i in range(5):\n",
        "    for j in range(5):\n",
        "        mul_arr3[i][j]  = mul_arr3[i][j]+ mul_arr1[i][j]*mul_arr2[i][j]\n",
        "print(f\"multiplication of matrices -> {mul_arr3}\")"
      ]
    },
    {
      "cell_type": "code",
      "execution_count": null,
      "metadata": {
        "colab": {
          "base_uri": "https://localhost:8080/"
        },
        "id": "4RwKIptOlPq8",
        "outputId": "355502c6-09e3-46a9-a14f-b92931a4ab03"
      },
      "outputs": [
        {
          "name": "stdout",
          "output_type": "stream",
          "text": [
            "<class 'list'>\n",
            "The command line arguments are:\n",
            "/usr/local/lib/python3.7/dist-packages/ipykernel_launcher.py\n",
            "-f\n",
            "/root/.local/share/jupyter/runtime/kernel-e12c6dbe-22a1-4aab-95e0-a70d96bc488a.json\n"
          ]
        }
      ],
      "source": [
        "import sys\n",
        "print(type(sys.argv))\n",
        "print('The command line arguments are:')\n",
        "for i in sys.argv:\n",
        "    print(i)\n"
      ]
    },
    {
      "cell_type": "code",
      "execution_count": null,
      "metadata": {
        "colab": {
          "base_uri": "https://localhost:8080/"
        },
        "id": "LAjxopjNkEVr",
        "outputId": "a6f1a682-2770-4b0b-f625-e7e094d21314"
      },
      "outputs": [
        {
          "name": "stdout",
          "output_type": "stream",
          "text": [
            "popped element -> 1234\n",
            "[1, 13, 49328]\n"
          ]
        }
      ],
      "source": [
        "#stack\n",
        "class List(list):\n",
        "    def __init__(self):\n",
        "        self.push = self.append\n",
        "lst = List()\n",
        "#push element to stack\n",
        "lst.push(1)\n",
        "lst.push(13)\n",
        "lst.push(49328)\n",
        "lst.push(1234)\n",
        "\n",
        "#pop element from stack\n",
        "popped_element = lst.pop()\n",
        "print(f\"popped element -> {popped_element}\")\n",
        "print(lst)\n"
      ]
    },
    {
      "cell_type": "code",
      "execution_count": null,
      "metadata": {
        "colab": {
          "base_uri": "https://localhost:8080/"
        },
        "id": "cgZ2gepsoaxH",
        "outputId": "f8911664-dedb-45dd-c6a4-0d219fee5b94"
      },
      "outputs": [
        {
          "name": "stdout",
          "output_type": "stream",
          "text": [
            "13\n",
            "1863\n",
            "13345\n",
            "132\n",
            "after sorting queue\n",
            "13\n",
            "132\n",
            "1863\n",
            "13345\n",
            "after reversing queue\n",
            "13345\n",
            "1863\n",
            "132\n",
            "13\n"
          ]
        }
      ],
      "source": [
        "from typing import Sized\n",
        "#queue\n",
        "import queue\n",
        "q = queue.Queue(maxsize=10)\n",
        "\n",
        "#add element to queue\n",
        "q.put(13)\n",
        "q.put(1863)\n",
        "q.put(13345)\n",
        "q.put(132)\n",
        "\n",
        "#travarse queue\n",
        "for i in range(q.qsize()):\n",
        "    print(q.queue[i])\n",
        "\n",
        "#remove element from the queue\n",
        "# for i in range(q.qsize()):\n",
        "#     print(f\"queue size {q.qsize()}\")\n",
        "#     print(q.get())\n",
        "\n",
        "\n",
        "#sort element in queue\n",
        "size = q.qsize()\n",
        "for i in range(size):\n",
        "    t1 = q.get()\n",
        "    for j in range(size-1):\n",
        "        t2 = q.get()\n",
        "        if t1> t2:\n",
        "            q.put(t2)\n",
        "        else:\n",
        "            q.put(t1)\n",
        "            t1 = t2\n",
        "    q.put(t1)\n",
        "\n",
        "\n",
        "print(\"after sorting queue\")\n",
        "#travarse queue\n",
        "for i in range(q.qsize()):\n",
        "    print(q.queue[i])\n",
        "\n",
        "#reverese a queue\n",
        "def reverse_q(q,tq):\n",
        "    t = q.get()\n",
        "    if(q.empty() == False):\n",
        "        reverse_q(q,tq)\n",
        "    tq.put(t)\n",
        "    return tq\n",
        "\n",
        "tq = queue.Queue()\n",
        "rev_q = reverse_q(q,tq)\n",
        "print(\"after reversing queue\")\n",
        "#travarse queue\n",
        "for i in range(rev_q.qsize()):\n",
        "    print(rev_q.queue[i])\n"
      ]
    },
    {
      "cell_type": "code",
      "execution_count": null,
      "metadata": {
        "colab": {
          "base_uri": "https://localhost:8080/"
        },
        "id": "uH0zQ0LjwPlz",
        "outputId": "f65cc519-b754-4de4-d4c1-2736ff616d02"
      },
      "outputs": [
        {
          "name": "stdout",
          "output_type": "stream",
          "text": [
            "basic info about Person\n",
            "xyz is greater than xxx\n",
            "basic info about Person\n",
            "name xyz age 24\n",
            "contains person's name and age\n",
            "calling show_person()\n",
            "name xxx age 45 id 65432\n",
            "calling show_student()\n",
            "name xxx age 45 id 65432 laptop (None, None, None)\n",
            "calling show_student()\n",
            "name xxx age 45 id 65432 laptop ('g5080', 'lenovo', 12)\n"
          ]
        },
        {
          "data": {
            "text/plain": [
              "('g5080', None, 12)"
            ]
          },
          "execution_count": 70,
          "metadata": {},
          "output_type": "execute_result"
        }
      ],
      "source": [
        "#python oops (object oriented programming)\n",
        "#classes\n",
        "class Person:\n",
        "    #stactic vriable\n",
        "    info = \"basic info about Person\"\n",
        "\n",
        "    #static function\n",
        "    def person_info():\n",
        "        return \"contains person's name and age\"\n",
        "\n",
        "    #constructor -> calls last constructer if found multiple\n",
        "    def __init__(self, name, age):\n",
        "        self.name = name\n",
        "        self.age = age\n",
        "\n",
        "    def show_person(self):\n",
        "        print('name', self.name, 'age', self.age)\n",
        "\n",
        "\n",
        "    #function to compare two objects\n",
        "    def compare(self,other):\n",
        "        if self.age > other.age:\n",
        "            return f\"{self.name} is greater than {other.name}\"\n",
        "        else:\n",
        "            return f\"{self.name} is smaller than {other.name}\"\n",
        "\n",
        "\n",
        "#access the class variable\n",
        "print(Person.info)\n",
        "p1 = Person(\"xyz\",24)\n",
        "p2 = Person(\"xxx\",19)\n",
        "\n",
        "#compare two objects\n",
        "print(p1.compare(p2))\n",
        "\n",
        "print(p1.__class__.info)\n",
        "\n",
        "#call object function\n",
        "p1.show_person()\n",
        "\n",
        "\n",
        "#call the static function\n",
        "print(Person.person_info())\n",
        "\n",
        "\n",
        "#inheritance\n",
        "class Student(Person):\n",
        "    def __init__(self,name,age,id):\n",
        "        #calling the super class constructor\n",
        "        super().__init__(name,age)   #calling parent constructor\n",
        "        self.id = id\n",
        "        self.laptop = self.Laptop()\n",
        "\n",
        "    def assign_laptop(self,lname,lbrand,lram):\n",
        "        self.laptop.laptop_config(lname,lbrand,lram)\n",
        "\n",
        "    #method overriding in inheritance\n",
        "    def show_person(self):\n",
        "        print(f\"name {self.name} age {self.age} id {self.id}\")\n",
        "\n",
        "    def show_student(self):\n",
        "        print(f\"name {self.name} age {self.age} id {self.id} laptop {self.laptop.show_config()}\")\n",
        "    class Laptop:\n",
        "        def __init__(self):\n",
        "            self.name = None\n",
        "            self.brand = None\n",
        "            self.ram = None\n",
        "        def laptop_config(self,name, brand, ram):\n",
        "            self.name = name\n",
        "            self.brand = brand\n",
        "            self.ram = ram\n",
        "        def show_config(self):\n",
        "            return self.name,self.brand,self.ram\n",
        "\n",
        "\n",
        "s1 = Student(\"xxx\",45,65432)\n",
        "\n",
        "print(\"calling show_person()\")\n",
        "s1.show_person()\n",
        "\n",
        "print(\"calling show_student()\")\n",
        "s1.show_student()\n",
        "\n",
        "#call assign_laptop\n",
        "s1.assign_laptop(\"g5080\",\"lenovo\",12)\n",
        "\n",
        "print(\"calling show_student()\")\n",
        "s1.show_student()\n",
        "\n",
        "\n",
        "#creating object of inner class\n",
        "lap1 = Student.Laptop()\n",
        "lap1.laptop_config(\"g5080\",None,12)\n",
        "lap1.show_config()\n",
        "\n"
      ]
    },
    {
      "cell_type": "code",
      "execution_count": null,
      "metadata": {
        "colab": {
          "base_uri": "https://localhost:8080/"
        },
        "id": "AX3-unArNwrW",
        "outputId": "b5fe7bb2-5d29-42b8-e086-4b315c852839"
      },
      "outputs": [
        {
          "name": "stdout",
          "output_type": "stream",
          "text": [
            "21\n",
            "27\n",
            "True\n"
          ]
        }
      ],
      "source": [
        "\"\"\"\n",
        "Class method vs Static Method\n",
        "\n",
        "The difference between the Class method and the static method is:\n",
        "\n",
        "    A class method takes cls as the first parameter while a static method needs no specific parameters.\n",
        "    A class method can access or modify the class state while a static method can’t access or modify it.\n",
        "    In general, static methods know nothing about the class state. They are utility-type methods that take some parameters and work upon those parameters. On the other hand class methods must have class as a parameter.\n",
        "    We use @classmethod decorator in python to create a class method and we use @staticmethod decorator to create a static method in python.\n",
        "\n",
        "\"\"\"\n",
        "\n",
        "# Python program to demonstrate\n",
        "# use of class method and static method.\n",
        "from datetime import date\n",
        "\n",
        "\n",
        "class Person:\n",
        "\tdef __init__(self, name, age):\n",
        "\t\tself.name = name\n",
        "\t\tself.age = age\n",
        "\n",
        "\t# a class method to create a Person object by birth year.\n",
        "\t@classmethod\n",
        "\tdef fromBirthYear(cls, name, year):\n",
        "\t\treturn cls(name, date.today().year - year)\n",
        "\n",
        "\t# a static method to check if a Person is adult or not.\n",
        "\t@staticmethod\n",
        "\tdef isAdult(age):\n",
        "\t\treturn age > 18\n",
        "\n",
        "\n",
        "person1 = Person('mayank', 21)\n",
        "person2 = Person.fromBirthYear('mayank', 1996)\n",
        "\n",
        "print(person1.age)\n",
        "print(person2.age)\n",
        "\n",
        "# print the result\n",
        "print(Person.isAdult(22))\n"
      ]
    },
    {
      "cell_type": "code",
      "execution_count": null,
      "metadata": {
        "colab": {
          "base_uri": "https://localhost:8080/"
        },
        "id": "GmpX4kpzo_dH",
        "outputId": "24841ce1-1988-4113-a02a-4d110233ffcf"
      },
      "outputs": [
        {
          "name": "stdout",
          "output_type": "stream",
          "text": [
            "Quack!\n"
          ]
        }
      ],
      "source": [
        "#polymorphism / duck typing\n",
        "class Duck:\n",
        "\n",
        "    def __init__(self, name):\n",
        "        self.name = name\n",
        "    def quack(self):\n",
        "        print('Quack!')\n",
        "class Car:\n",
        "\n",
        "    def __init__(self, model):\n",
        "        self.model = model\n",
        "\n",
        "    def quack(self):\n",
        "        print('I can quack, too!')\n",
        "\n",
        "def quacks(obj):\n",
        "    obj.quack()\n",
        "\n",
        "duck = Duck(\"x\")\n",
        "quacks(duck)"
      ]
    },
    {
      "cell_type": "code",
      "execution_count": null,
      "metadata": {
        "colab": {
          "base_uri": "https://localhost:8080/"
        },
        "id": "VCTMWsb40OWF",
        "outputId": "001fc99c-0357-4bc2-fc0d-0aa379ca12d4"
      },
      "outputs": [
        {
          "name": "stdout",
          "output_type": "stream",
          "text": [
            "3\n",
            "3\n"
          ]
        }
      ],
      "source": [
        "#python global variable\n",
        "x = 5\n",
        "def fun(y):\n",
        "    global x\n",
        "    x = 3\n",
        "    return x\n",
        "\n",
        "print(fun(x))\n",
        "print(x)"
      ]
    },
    {
      "cell_type": "code",
      "execution_count": null,
      "metadata": {
        "colab": {
          "base_uri": "https://localhost:8080/"
        },
        "id": "1VkmUWHBDqgm",
        "outputId": "e36bed55-e718-417d-fd9c-86856440b72b"
      },
      "outputs": [
        {
          "name": "stdout",
          "output_type": "stream",
          "text": [
            "(1, 2, 3)\n",
            "{'x': 19876, 'y': 2, 'z': 3}\n",
            "(19876, 2, 3)\n"
          ]
        }
      ],
      "source": [
        "#pass keywords args to function\n",
        "\n",
        "#declaring keyword only function arg using *\n",
        "def fun(*,x,y,z):\n",
        "    return x,y,z\n",
        "\n",
        "print(fun(x=1,y=2,z=3))\n",
        "\n",
        "dict1 = {'x':19876,'y':2,'z':3}\n",
        "print(dict1)\n",
        "\n",
        "#passing dict as arg( key should match with function parameter)\n",
        "print(fun(**dict1))\n"
      ]
    },
    {
      "cell_type": "code",
      "execution_count": null,
      "metadata": {
        "colab": {
          "base_uri": "https://localhost:8080/"
        },
        "id": "_48sLRJMFVWz",
        "outputId": "c3e2fe83-e2a6-437b-dc4f-2e576419a48d"
      },
      "outputs": [
        {
          "name": "stdout",
          "output_type": "stream",
          "text": [
            "[0, 1, 1, 2, 3, 5, 8, 13]\n"
          ]
        }
      ],
      "source": [
        "\n",
        "#python generator\n",
        "def fib_series(n):\n",
        "    x,y = 0,1\n",
        "    for i in range(n):\n",
        "        yield x\n",
        "        x, y = y, x+y\n",
        "\n",
        "print(list(fib_series(8)))\n",
        "\n"
      ]
    },
    {
      "cell_type": "code",
      "execution_count": null,
      "metadata": {
        "colab": {
          "base_uri": "https://localhost:8080/"
        },
        "id": "Jc09AtbA6xHt",
        "outputId": "3014c6bc-cd66-4c93-bb10-abe13d41faae"
      },
      "outputs": [
        {
          "name": "stdout",
          "output_type": "stream",
          "text": [
            "inside wapper function\n",
            "hey thanks BRO\n"
          ]
        }
      ],
      "source": [
        "#python decorator\n",
        "\"\"\"\n",
        "decorator allows you to modify any function behaviour without explicitly modifying it.\n",
        "\"\"\"\n",
        "def mydecorator(func):\n",
        "    def wrapper(*args,**kwargs):\n",
        "        print(\"inside wapper function\")\n",
        "        res = func(*args,**kwargs)\n",
        "        return res\n",
        "    return wrapper\n",
        "\n",
        "@mydecorator\n",
        "def fun2(var):\n",
        "    return f\"hey thanks {var}\"\n",
        "\n",
        "print(fun2(\"BRO\"))"
      ]
    },
    {
      "cell_type": "code",
      "execution_count": null,
      "metadata": {
        "colab": {
          "base_uri": "https://localhost:8080/"
        },
        "id": "4FMOewEbrZCz",
        "outputId": "24fd97b1-39c9-4782-8aa9-662208a131d9"
      },
      "outputs": [
        {
          "name": "stdout",
          "output_type": "stream",
          "text": [
            "division by zero\n",
            "in final block\n"
          ]
        }
      ],
      "source": [
        "#python Exception\n",
        "try:\n",
        "    print(2/0)\n",
        "except Exception as e:\n",
        "    print(e)\n",
        "finally:\n",
        "    print(\"in final block\")\n"
      ]
    },
    {
      "cell_type": "code",
      "execution_count": null,
      "metadata": {
        "colab": {
          "base_uri": "https://localhost:8080/"
        },
        "id": "8gW7jSbzm_hb",
        "outputId": "0beb2fee-e9ae-4e0b-fcfa-9da92fdd0e17"
      },
      "outputs": [
        {
          "name": "stdout",
          "output_type": "stream",
          "text": [
            "16\n"
          ]
        }
      ],
      "source": [
        "#pyhton closure\n",
        "\"\"\" python closure is a function object which remembers the local variable declared outside the function. \"\"\"\n",
        "\n",
        "def nth_power(exponent):\n",
        "    def inner_func(base):\n",
        "        return pow(base,exponent)\n",
        "    return inner_func\n",
        "\n",
        "square = nth_power(2)\n",
        "#this square function remembers the value of exponent variable even if the outer function has already finished it's execution.\n",
        "print(square(4))"
      ]
    },
    {
      "cell_type": "code",
      "execution_count": null,
      "metadata": {
        "colab": {
          "base_uri": "https://localhost:8080/"
        },
        "id": "h-wIJEfWnTTc",
        "outputId": "a5b2aa02-06a8-4536-a4a4-503401696eec"
      },
      "outputs": [
        {
          "name": "stdout",
          "output_type": "stream",
          "text": [
            "{'name': 'xyz', 'code': 'hello bro'}\n",
            "{\"name\": \"xyz\", \"code\": \"hello bro\"}\n"
          ]
        }
      ],
      "source": [
        "#working with json\n",
        "import json\n",
        "#Load json data from string\n",
        "s = \"\"\"{\"name\" : \"xyz\",\n",
        "\"code\" : \"hello bro\"}\"\"\"\n",
        "data2 = json.loads(s)\n",
        "print(data2)\n",
        "\n",
        "#convert dict to json data\n",
        "dict = {'name' : 'xyz',\n",
        "        'code' : 'hello bro'}\n",
        "data3 = json.dumps(dict)\n",
        "print(data3)\n"
      ]
    },
    {
      "cell_type": "code",
      "execution_count": null,
      "metadata": {
        "colab": {
          "base_uri": "https://localhost:8080/"
        },
        "id": "zsGkIfDnjLI-",
        "outputId": "b6a98aec-c9d2-4d29-826b-ed3f2b0ffe7f"
      },
      "outputs": [
        {
          "name": "stdout",
          "output_type": "stream",
          "text": [
            "Iron Man iron.man@email.com\n"
          ]
        }
      ],
      "source": [
        "#python proerty decorator\n",
        "#allow you to define a method which can be accessed as class attribute/variable\n",
        "\"\"\"\n",
        "Descriptors let objects customize attribute lookup, storage, and deletion.\n",
        "a descriptor is an attribute value that has one of the methods in the descriptor protocol.\n",
        "Those methods are __get__(), __set__(), and __delete__(). If any of those methods are defined for an attribute,\n",
        "it is said to be a descriptor.\n",
        "\"\"\"\n",
        "\n",
        "\n",
        "class Employee:\n",
        "    def __init__(self,first,last):\n",
        "        self.first = first\n",
        "        self.last = last\n",
        "\n",
        "    @property #use property decorator to access method as an attribute\n",
        "    def fullname(self):\n",
        "        return f\"{self.first} {self.last}\"\n",
        "\n",
        "    @property\n",
        "    def email(self):\n",
        "        return f\"{self.first.lower()}.{self.last.lower()}@email.com\"\n",
        "\n",
        "    #create a setter method\n",
        "    @fullname.setter\n",
        "    def fullname(self,fullname):\n",
        "        first, last = fullname.split()\n",
        "        self.first = first\n",
        "        self.last = last\n",
        "\n",
        "\n",
        "    #create a deleter method\n",
        "    @fullname.deleter\n",
        "    def fullname(self):\n",
        "        print('deleted emp', self.first)\n",
        "        self.first = None\n",
        "        self.last = None\n",
        "\n",
        "\n",
        "\n",
        "\n",
        "\n",
        "e1 = Employee(\"Iron\", \"Man\")\n",
        "\n",
        "print(e1.fullname, e1.email)\n",
        "# e1.fullname = \"Spider Man\"\n",
        "# print(e1.first, e1.email)\n",
        "# e1.first = 'x'\n",
        "# print(e1.first, e1.email)\n",
        "# del e1.fullname\n",
        "# print(e1.first)\n"
      ]
    },
    {
      "cell_type": "code",
      "execution_count": null,
      "metadata": {
        "colab": {
          "base_uri": "https://localhost:8080/"
        },
        "id": "sh5NjYJYkl0f",
        "outputId": "e1ea2ca1-bec5-4a27-ce45-3867dcae8713"
      },
      "outputs": [
        {
          "name": "stdout",
          "output_type": "stream",
          "text": [
            "Updating %r to %r age 12\n",
            "Updating %r to %r age 17\n",
            "Accessing %r giving %r age 17\n",
            "Updating %r to %r age 18\n",
            "None\n",
            "Accessing %r giving %r age 18\n",
            "xyz 18\n",
            "['__class__', '__delattr__', '__dict__', '__dir__', '__doc__', '__eq__', '__format__', '__ge__', '__getattribute__', '__gt__', '__hash__', '__init__', '__init_subclass__', '__le__', '__lt__', '__module__', '__ne__', '__new__', '__reduce__', '__reduce_ex__', '__repr__', '__setattr__', '__sizeof__', '__str__', '__subclasshook__', '__weakref__', '_age', 'age', 'birthday', 'name']\n"
          ]
        }
      ],
      "source": [
        "class LoggedAgeAccess:\n",
        "\n",
        "    def __get__(self, obj, objtype=None):\n",
        "        value = obj._age\n",
        "        print('Accessing %r giving %r', 'age', value)\n",
        "        return value\n",
        "\n",
        "    def __set__(self, obj, value):\n",
        "        print('Updating %r to %r', 'age', value)\n",
        "        obj._age = value\n",
        "\n",
        "class Person:\n",
        "\n",
        "    age = LoggedAgeAccess()             # Descriptor instance\n",
        "\n",
        "    def __init__(self, name, age):\n",
        "        self.name = name                # Regular instance attribute\n",
        "        self.age = age                  # Calls __set__()\n",
        "    @property\n",
        "    def birthday(self):\n",
        "        self.age += 1                   # Calls both __get__() and __set__()\n",
        "\n",
        "p = Person(\"xyz\",12)\n",
        "p.age = 17\n",
        "print(p.birthday)\n",
        "print(p.name, p.age)\n",
        "print(dir(p))"
      ]
    },
    {
      "cell_type": "code",
      "execution_count": null,
      "metadata": {
        "colab": {
          "base_uri": "https://localhost:8080/"
        },
        "id": "YlrH7R8dxc_R",
        "outputId": "6e7e056c-f27a-44c0-f030-ddb363fef09c"
      },
      "outputs": [
        {
          "name": "stdout",
          "output_type": "stream",
          "text": [
            "4\n",
            "8\n"
          ]
        }
      ],
      "source": [
        "#python abstract class\n",
        "\"\"\"\n",
        "can't be instanciated, child needs to implement all abstract method\n",
        "\"\"\"\n",
        "\n",
        "from abc import ABC, abstractmethod\n",
        "class Shape(ABC):\n",
        "    @abstractmethod\n",
        "    def area(self):\n",
        "        pass\n",
        "    @abstractmethod\n",
        "    def parameter(self):\n",
        "        pass\n",
        "\n",
        "\n",
        "class Square(Shape):\n",
        "    def __init__(self,side):\n",
        "        self.side = side\n",
        "    def area(self):\n",
        "        return self.side**2\n",
        "\n",
        "    def parameter(self):\n",
        "        return 4*self.side\n",
        "\n",
        "\n",
        "s1 = Square(2)\n",
        "print(s1.area())\n",
        "print(s1.parameter())"
      ]
    },
    {
      "cell_type": "code",
      "execution_count": null,
      "metadata": {
        "colab": {
          "base_uri": "https://localhost:8080/"
        },
        "id": "Y9hQPmd4Ai9w",
        "outputId": "decd03bc-0ba1-43b1-f715-c192c1c7a34a"
      },
      "outputs": [
        {
          "name": "stderr",
          "output_type": "stream",
          "text": [
            "WARNING:root:This is a warning message\n",
            "ERROR:root:This is an error message\n",
            "CRITICAL:root:This is a critical message\n"
          ]
        }
      ],
      "source": [
        "#python logging\n",
        "\"\"\"\n",
        "DEBUG(10) - Detailed information, typically of interest only when diagnosing problems.\n",
        "INFO(20) - Confirmation that things are working as expected.\n",
        "WARNING(30)- An indication that something unexpected happened, or indicative of some problem in\n",
        "             the near future (e.g. ‘disk space low’). The software is still working as expected.\n",
        "\n",
        "ERROR(40) - Due to a more serious problem, the software has not been able to perform some function.\n",
        "CRITICAL(50) - A serious error, indicating that the program itself may be unable to continue running.\n",
        "\n",
        "\n",
        "\"\"\"\n",
        "import logging\n",
        "logging.debug('This is a debug message')\n",
        "logging.info('This is an info message')\n",
        "logging.warning('This is a warning message')\n",
        "logging.error('This is an error message')\n",
        "logging.critical('This is a critical message')"
      ]
    },
    {
      "cell_type": "code",
      "execution_count": null,
      "metadata": {
        "id": "oR26Qh6LFAH6"
      },
      "outputs": [],
      "source": [
        "import logging\n",
        "logging.basicConfig(level=logging.DEBUG, format='%(asctime)s - %(name)s - %(levelname)s - %(message)s', datefmt='%m/%d/%Y %H:%M:%S')\n",
        "# Now also debug messages will get logged with a different format.\n",
        "logging.debug('Debug message')\n",
        "\n",
        "# This would log to a file instead of the console.\n",
        "# logging.basicConfig(level=logging.DEBUG, filename='app.log')"
      ]
    },
    {
      "cell_type": "code",
      "execution_count": null,
      "metadata": {
        "id": "I99dNfNsHoIf"
      },
      "outputs": [],
      "source": []
    },
    {
      "cell_type": "code",
      "execution_count": null,
      "metadata": {
        "colab": {
          "base_uri": "https://localhost:8080/"
        },
        "id": "ipbrK_webu0K",
        "outputId": "c1bf7eeb-0991-4190-e799-ca5e8718e395"
      },
      "outputs": [
        {
          "name": "stdout",
          "output_type": "stream",
          "text": [
            "Start value:  0\n",
            "End value: 2\n",
            "[1, 4, 9, 16, 25]\n",
            "end main\n"
          ]
        }
      ],
      "source": [
        "#python multiprocessing\n",
        "\"\"\"\n",
        "Each process has seperate memory space, suitable for cpu intensive job, killable\n",
        "\"\"\"\n",
        "\n",
        "\n",
        "from multiprocessing import Process, Lock,Value, Array\n",
        "import time\n",
        "\n",
        "\n",
        "def add_arr(lock,arr):\n",
        "    with lock:\n",
        "        for i in range(len(arr)):\n",
        "            arr[i] = arr[i]**2\n",
        "\n",
        "def increase(lock,database_value):\n",
        "\n",
        "    # lock the state\n",
        "    lock.acquire()\n",
        "\n",
        "    database_value.value += 1\n",
        "    time.sleep(0.1)\n",
        "\n",
        "    # unlock the state\n",
        "    lock.release()\n",
        "\n",
        "if __name__ == \"__main__\":\n",
        "\n",
        "    # create a lock\n",
        "    lock = Lock()\n",
        "    database_value = Value('i',0) #variable is stored at shared memory space\n",
        "    array = Array('i',[1,2,3,4,5])\n",
        "    print('Start value: ', database_value.value)\n",
        "\n",
        "    # pass the lock to the target function\n",
        "    p1 = Process(target=increase, args=(lock,database_value)) # notice the comma after lock since args must be a tuple\n",
        "    p2 = Process(target=increase, args=(lock,database_value))\n",
        "    p3 = Process(target=add_arr,args=(lock,array))\n",
        "\n",
        "    p1.start()\n",
        "    p2.start()\n",
        "    p3.start()\n",
        "\n",
        "    p1.join()\n",
        "    p2.join()\n",
        "    p3.join()\n",
        "\n",
        "    print('End value:', database_value.value)\n",
        "    print(list(array))\n",
        "    print('end main')"
      ]
    },
    {
      "cell_type": "code",
      "execution_count": null,
      "metadata": {
        "colab": {
          "base_uri": "https://localhost:8080/"
        },
        "id": "bVS6J3waT8dT",
        "outputId": "264f5256-fd8e-4eac-bcd7-a7d845c61bc9"
      },
      "outputs": [
        {
          "name": "stdout",
          "output_type": "stream",
          "text": [
            "Start value:  0\n",
            "End value: 2\n",
            "[1, 4, 9, 16, 25]\n",
            "end main\n"
          ]
        }
      ],
      "source": [
        "#python multithreading\n",
        "\"\"\"\n",
        "A process can have multiple thread.\n",
        "Each threads shares memory space, suitable for memory, input/output intensive job, not killable\n",
        "\"\"\"\n",
        "\n",
        "\n",
        "from threading import Thread, Lock\n",
        "import time\n",
        "\n",
        "\n",
        "def add_arr(lock,arr):\n",
        "    with lock:\n",
        "        for i in range(len(arr)):\n",
        "            arr[i] = arr[i]**2\n",
        "\n",
        "def increase(lock,database_value):\n",
        "\n",
        "    # lock the state\n",
        "    lock.acquire()\n",
        "\n",
        "    database_value.value += 1\n",
        "    time.sleep(0.1)\n",
        "\n",
        "    # unlock the state\n",
        "    lock.release()\n",
        "\n",
        "if __name__ == \"__main__\":\n",
        "\n",
        "    # create a lock\n",
        "    lock = Lock()\n",
        "    database_value = Value('i',0) #variable is stored at shared memory space\n",
        "    # array = Array('i',[1,2,3,4,5])\n",
        "    array = [1,2,3,4,5]\n",
        "    print('Start value: ', database_value.value)\n",
        "\n",
        "    # pass the lock to the target function\n",
        "    t1 = Thread(target=increase, args=(lock,database_value)) # notice the comma after lock since args must be a tuple\n",
        "    t2 = Thread(target=increase, args=(lock,database_value))\n",
        "    t3 = Thread(target=add_arr,args=(lock,array))\n",
        "\n",
        "    t1.start()\n",
        "    t2.start()\n",
        "    t3.start()\n",
        "\n",
        "    t1.join()\n",
        "    t2.join()\n",
        "    t3.join()\n",
        "\n",
        "    print('End value:', database_value.value)\n",
        "    print(list(array))\n",
        "    print('end main')"
      ]
    },
    {
      "cell_type": "code",
      "execution_count": null,
      "metadata": {
        "colab": {
          "base_uri": "https://localhost:8080/"
        },
        "id": "JATBR-K0eKL6",
        "outputId": "f6b36962-df07-4667-eb6c-96dc621d2f6a"
      },
      "outputs": [
        {
          "name": "stdout",
          "output_type": "stream",
          "text": [
            "[1105, 1105, 1105, 1105]\n",
            "400\n",
            "[1, 4, 9]\n"
          ]
        }
      ],
      "source": [
        "#multiprocessing pool\n",
        "\"\"\"\n",
        "used to deal with mu\n",
        "\"\"\"\n",
        "from multiprocessing import Pool,Array\n",
        "import os\n",
        "\n",
        "def square(var):\n",
        "    return var**2\n",
        "\n",
        "p = Pool(2)\n",
        "arr = [1,2,3]\n",
        "with p:\n",
        "    arr = p.map(square,arr)\n",
        "    # launching multiple evaluations asynchronously *may* use more processes\n",
        "    multiple_results = [p.apply_async(os.getpid, ()) for i in range(4)]\n",
        "    print([res.get(timeout=1) for res in multiple_results])\n",
        "    # evaluate \"f(20)\" asynchronously\n",
        "    res = p.apply_async(square, (20,))      # runs in *only* one process\n",
        "    print(res.get(timeout=1))               # prints \"400\"\n",
        "print(arr)\n",
        "\n",
        "\n"
      ]
    },
    {
      "cell_type": "code",
      "execution_count": null,
      "metadata": {
        "colab": {
          "base_uri": "https://localhost:8080/"
        },
        "id": "2tO9DBbvk67W",
        "outputId": "0432dac4-af6a-4fbf-ec97-8f7fc682b5c3"
      },
      "outputs": [
        {
          "name": "stdout",
          "output_type": "stream",
          "text": [
            "thisisacar\n",
            "['i']\n"
          ]
        }
      ],
      "source": [
        "#regex\n",
        "\n",
        "import re\n",
        "\n",
        "str = \"This is a car.\"\n",
        "\n",
        "#replace a string\n",
        "print(re.sub(\"[^\\w]\",\"\",str.lower()))\n",
        "\n",
        "#find a pattern in given string. () is used to return specific group from the matched group\n",
        "print(re.findall(\"[This](i)\",str))"
      ]
    },
    {
      "cell_type": "code",
      "execution_count": null,
      "metadata": {
        "id": "rDCL6k5zN2Yq"
      },
      "outputs": [],
      "source": []
    }
  ],
  "metadata": {
    "colab": {
      "provenance": [],
      "toc_visible": true,
      "include_colab_link": true
    },
    "kernelspec": {
      "display_name": "Python 3 (ipykernel)",
      "language": "python",
      "name": "python3"
    },
    "language_info": {
      "codemirror_mode": {
        "name": "ipython",
        "version": 3
      },
      "file_extension": ".py",
      "mimetype": "text/x-python",
      "name": "python",
      "nbconvert_exporter": "python",
      "pygments_lexer": "ipython3",
      "version": "3.10.5"
    }
  },
  "nbformat": 4,
  "nbformat_minor": 0
}